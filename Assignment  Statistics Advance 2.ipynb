{
 "cells": [
  {
   "cell_type": "markdown",
   "id": "81766086-c4db-4b37-afdf-dcead1862231",
   "metadata": {},
   "source": [
    "# Theory Question"
   ]
  },
  {
   "cell_type": "raw",
   "id": "15772ab3-76c1-472b-b4b5-9a66df543bb2",
   "metadata": {},
   "source": [
    "# 1. What is hypothesis testing in statistics?\n",
    "# Hypothesis testing is a statistical technique used to make decisions or inferences about population parameters based on sample data.\n",
    "# It involves setting up two competing hypotheses (null and alternative), then using sample data to decide which one is more supported."
   ]
  },
  {
   "cell_type": "raw",
   "id": "9c8e89a2-37c3-4ea9-99aa-0369ea1f2b9b",
   "metadata": {},
   "source": [
    "# 2. What is the null hypothesis, and how does it differ from the alternative hypothesis?\n",
    "# H0 (null hypothesis): There is no effect or difference.\n",
    "# H1 (alternative hypothesis): There is an effect or difference.\n",
    "# Example: H0: μ = 50, H1: μ ≠ 50"
   ]
  },
  {
   "cell_type": "code",
   "execution_count": 68,
   "id": "4913184b-956d-4e9d-a3c6-af02b09f1250",
   "metadata": {},
   "outputs": [],
   "source": [
    "# 3. What is the significance level in hypothesis testing, and why is it important?\n",
    "# Alpha (α) is the probability threshold for rejecting the null hypothesis.\n",
    "# Common values: 0.05 (5%), 0.01 (1%)\n",
    "# It defines the maximum acceptable probability of making a Type I error.\n",
    "alpha = 0.05"
   ]
  },
  {
   "cell_type": "raw",
   "id": "0005fa72-5e93-4ac2-a355-909d17c57dc3",
   "metadata": {},
   "source": [
    "# 4. What does a P-value represent in hypothesis testing?\n",
    "# The P-value is the probability of observing a test statistic as extreme as the sample value, assuming H0 is true.\n",
    "# A small P-value indicates strong evidence against H0."
   ]
  },
  {
   "cell_type": "code",
   "execution_count": 69,
   "id": "48e29371-7c4f-483b-a2c8-0581414776dd",
   "metadata": {},
   "outputs": [
    {
     "name": "stdout",
     "output_type": "stream",
     "text": [
      "Reject the null hypothesis: statistically significant.\n"
     ]
    }
   ],
   "source": [
    "# 5. How do you interpret the P-value?\n",
    "p_value = 0.03\n",
    "if p_value <= alpha:\n",
    "    print(\"Reject the null hypothesis: statistically significant.\")\n",
    "else:\n",
    "    print(\"Fail to reject the null hypothesis: not statistically significant.\")"
   ]
  },
  {
   "cell_type": "code",
   "execution_count": 70,
   "id": "fe00953d-b552-43d7-88d3-3d876161c18f",
   "metadata": {},
   "outputs": [],
   "source": [
    "# 6. What are Type 1 and Type 2 errors in hypothesis testing?\n",
    "# Type I Error: Rejecting H0 when H0 is true (False Positive)\n",
    "# Type II Error: Failing to reject H0 when H1 is true (False Negative)"
   ]
  },
  {
   "cell_type": "code",
   "execution_count": 71,
   "id": "3b2e3132-b525-4be4-8bbb-854939908719",
   "metadata": {},
   "outputs": [],
   "source": [
    "# 7. What is the difference between a one-tailed and a two-tailed test in hypothesis testing?\n",
    "# One-tailed test: H1 is directional (e.g., μ > 50 or μ < 50)\n",
    "# Two-tailed test: H1 is non-directional (e.g., μ not equal 50)\n",
    "# Choose based on the research question."
   ]
  },
  {
   "cell_type": "code",
   "execution_count": 72,
   "id": "b8ecca62-1069-4dda-a6a7-01c8955b20cc",
   "metadata": {},
   "outputs": [],
   "source": [
    "# 8. What is the Z-test, and when is it used in hypothesis testing?\n",
    "# Z-test is used when:\n",
    "# - The population standard deviation is known.\n",
    "# - The sample size is large (n > 30).\n",
    "# It assumes normality.\n",
    "from scipy.stats import norm"
   ]
  },
  {
   "cell_type": "code",
   "execution_count": 73,
   "id": "223e1040-42d1-4686-b3a4-cbb055ded43f",
   "metadata": {},
   "outputs": [
    {
     "name": "stdout",
     "output_type": "stream",
     "text": [
      "Z-score: 2.4\n",
      "P-value (two-tailed): 0.01639507184919231\n"
     ]
    }
   ],
   "source": [
    "# 9. How do you calculate the Z-score, and what does it represent in hypothesis testing?\n",
    "import numpy as np\n",
    "\n",
    "sample_mean = 52\n",
    "population_mean = 50\n",
    "population_std = 5\n",
    "sample_size = 36\n",
    "\n",
    "z_score = (sample_mean - population_mean) / (population_std / np.sqrt(sample_size))\n",
    "print(\"Z-score:\", z_score)\n",
    "\n",
    "p_val = 2 * (1 - norm.cdf(abs(z_score)))\n",
    "print(\"P-value (two-tailed):\", p_val)"
   ]
  },
  {
   "cell_type": "code",
   "execution_count": 74,
   "id": "e4dfbc74-923b-435a-99f8-910d92a23d9c",
   "metadata": {},
   "outputs": [],
   "source": [
    "# 10. What is the T-distribution, and when should it be used instead of the normal distribution?\n",
    "# T-distribution is used when:\n",
    "# - Sample size is small (n < 30)\n",
    "# - Population standard deviation is unknown\n",
    "# It has thicker tails than the normal distribution to account for more uncertainty."
   ]
  },
  {
   "cell_type": "code",
   "execution_count": 75,
   "id": "c05d9520-38c3-48ab-89c2-9f8e3cc5e4dd",
   "metadata": {},
   "outputs": [],
   "source": [
    "# 11. What is the difference between a Z-test and a T-test?\n",
    "# Z-test: known σ and large sample size\n",
    "# T-test: unknown σ and small sample size\n",
    "# Both test means, but T-test is more conservative for small samples."
   ]
  },
  {
   "cell_type": "code",
   "execution_count": 76,
   "id": "27b7c339-84be-46b5-abdc-d0db68a8c28c",
   "metadata": {},
   "outputs": [
    {
     "name": "stdout",
     "output_type": "stream",
     "text": [
      "T-statistic: 0.2809757434745072\n",
      "P-value: 0.7881667206676226\n"
     ]
    }
   ],
   "source": [
    "# 12. What is the T-test, and how is it used in hypothesis testing?\n",
    "from scipy.stats import ttest_1samp\n",
    "\n",
    "sample_data = [11, 12, 13, 12, 14, 10, 13]\n",
    "test_mean = 12\n",
    "t_stat, t_p_val = ttest_1samp(sample_data, popmean=test_mean)\n",
    "print(\"T-statistic:\", t_stat)\n",
    "print(\"P-value:\", t_p_val)"
   ]
  },
  {
   "cell_type": "code",
   "execution_count": 77,
   "id": "64d75a0d-3b64-44f5-8359-88b8d8cf3eb1",
   "metadata": {},
   "outputs": [],
   "source": [
    "# 13. What is the relationship between Z-test and T-test in hypothesis testing?\n",
    "# Both are used to compare sample means against a known or hypothesized value.\n",
    "# As sample size increases, the t-distribution approximates the normal distribution (Z)."
   ]
  },
  {
   "cell_type": "code",
   "execution_count": 78,
   "id": "c9c2d875-dc47-4c98-85f3-af34d51040b6",
   "metadata": {},
   "outputs": [
    {
     "name": "stdout",
     "output_type": "stream",
     "text": [
      "95% Confidence Interval: (np.float64(10.898768128071541), np.float64(13.386946157642743))\n"
     ]
    }
   ],
   "source": [
    "# 14. What is a confidence interval, and how is it used to interpret statistical results?\n",
    "import scipy.stats as stats\n",
    "\n",
    "confidence = 0.95\n",
    "mean = np.mean(sample_data)\n",
    "sem = stats.sem(sample_data)\n",
    "ci = stats.t.interval(confidence, len(sample_data)-1, loc=mean, scale=sem)\n",
    "print(f\"{confidence*100:.0f}% Confidence Interval:\", ci)"
   ]
  },
  {
   "cell_type": "code",
   "execution_count": 79,
   "id": "0bef6860-cc53-4bfe-ae8a-8661b08bab28",
   "metadata": {},
   "outputs": [
    {
     "name": "stdout",
     "output_type": "stream",
     "text": [
      "Margin of Error: 1.244089014785601\n"
     ]
    }
   ],
   "source": [
    "# 15. What is the margin of error, and how does it affect the confidence interval?\n",
    "margin_of_error = (ci[1] - ci[0]) / 2\n",
    "print(\"Margin of Error:\", margin_of_error)"
   ]
  },
  {
   "cell_type": "code",
   "execution_count": 80,
   "id": "9059e3f3-bf18-46a3-9ed5-6eea7056db3f",
   "metadata": {},
   "outputs": [
    {
     "name": "stdout",
     "output_type": "stream",
     "text": [
      "Posterior probability (Bayes'): 0.18000000000000002\n"
     ]
    }
   ],
   "source": [
    "# 16. How is Bayes' Theorem used in statistics, and what is its significance?\n",
    "# Bayes’ Theorem updates the probability of a hypothesis based on new evidence.\n",
    "# Formula: P(A|B) = P(B|A) * P(A) / P(B)\n",
    "P_A = 0.01  # Prior: disease prevalence\n",
    "P_B_given_A = 0.9  # Sensitivity\n",
    "P_B = 0.05  # Overall test positivity rate\n",
    "\n",
    "P_A_given_B = (P_B_given_A * P_A) / P_B\n",
    "print(\"Posterior probability (Bayes'):\", P_A_given_B)"
   ]
  },
  {
   "cell_type": "code",
   "execution_count": 81,
   "id": "4b48b5b9-a5bb-4846-8684-c62dfa27e6c3",
   "metadata": {},
   "outputs": [],
   "source": [
    "# 17. What is the Chi-square distribution, and when is it used?\n",
    "# Used for categorical data analysis: independence tests, goodness of fit.\n",
    "# Skewed right and only non-negative."
   ]
  },
  {
   "cell_type": "code",
   "execution_count": 82,
   "id": "65035cb4-472a-4653-bf61-b9995689bdc8",
   "metadata": {},
   "outputs": [
    {
     "name": "stdout",
     "output_type": "stream",
     "text": [
      "Chi-square statistic: 2.0\n",
      "P-value: 0.36787944117144245\n"
     ]
    }
   ],
   "source": [
    "# 18. What is the Chi-square goodness of fit test, and how is it applied?\n",
    "from scipy.stats import chisquare\n",
    "\n",
    "observed = [20, 30, 50]\n",
    "expected = [25, 25, 50]\n",
    "\n",
    "chi2_stat, chi2_p = chisquare(f_obs=observed, f_exp=expected)\n",
    "print(\"Chi-square statistic:\", chi2_stat)\n",
    "print(\"P-value:\", chi2_p)"
   ]
  },
  {
   "cell_type": "code",
   "execution_count": 83,
   "id": "f185cbfb-b1e7-404b-810e-71581e911a9b",
   "metadata": {},
   "outputs": [
    {
     "name": "stdout",
     "output_type": "stream",
     "text": [
      "Critical F-value: 3.885293834652391\n"
     ]
    }
   ],
   "source": [
    "# 19. What is the F-distribution, and when is it used in hypothesis testing?\n",
    "# F-distribution is used in ANOVA and in comparing variances.\n",
    "# It is right-skewed and non-negative.\n",
    "from scipy.stats import f\n",
    "\n",
    "# Example: Calculate the critical F-value\n",
    "alpha = 0.05\n",
    "df1 = 2  # between groups\n",
    "df2 = 12  # within groups\n",
    "f_crit = f.ppf(1 - alpha, df1, df2)\n",
    "print(\"Critical F-value:\", f_crit)"
   ]
  },
  {
   "cell_type": "code",
   "execution_count": 84,
   "id": "884cf0fa-11b5-491a-a41c-8bb7a30208ef",
   "metadata": {},
   "outputs": [
    {
     "name": "stdout",
     "output_type": "stream",
     "text": [
      "ANOVA F-statistic: 162.0\n",
      "P-value: 2.075161072342305e-09\n"
     ]
    }
   ],
   "source": [
    "# 20. What is an ANOVA test, and what are its assumptions?\n",
    "# ANOVA tests whether the means of three or more groups are equal.\n",
    "# Assumptions:\n",
    "# - Independence\n",
    "# - Normality\n",
    "# - Equal variance (homoscedasticity)\n",
    "\n",
    "\n",
    "from scipy.stats import f_oneway\n",
    "\n",
    "group1 = [23, 21, 19, 22, 20]\n",
    "group2 = [30, 28, 32, 31, 29]\n",
    "group3 = [40, 38, 39, 37, 41]\n",
    "\n",
    "f_stat, p_val_anova = f_oneway(group1, group2, group3)\n",
    "print(\"ANOVA F-statistic:\", f_stat)\n",
    "print(\"P-value:\", p_val_anova)"
   ]
  },
  {
   "cell_type": "code",
   "execution_count": 85,
   "id": "ab8f3f4e-53b1-45c8-a7da-e212580327e4",
   "metadata": {},
   "outputs": [],
   "source": [
    "# 21. What are the different types of ANOVA tests?\n",
    "# - One-way ANOVA: One factor (group)\n",
    "# - Two-way ANOVA: Two factors (e.g., treatment & gender)\n",
    "# - Repeated Measures ANOVA: Same subjects over time"
   ]
  },
  {
   "cell_type": "code",
   "execution_count": 86,
   "id": "9d087aa0-ed60-4f11-b88e-c3d59742b32b",
   "metadata": {},
   "outputs": [],
   "source": [
    "# 22. What is the F-test, and how does it relate to hypothesis testing?\n",
    "# F-test compares the variances of two populations or the variation between and within groups.\n",
    "# In ANOVA, it checks if the between-group variance is significantly larger than within-group variance.\n",
    "\n",
    "# If F-statistic > F-critical and p < alpha -> Reject null (significant difference)"
   ]
  },
  {
   "cell_type": "markdown",
   "id": "5193c61e-3e69-4a2a-bdce-e099c4d62d3c",
   "metadata": {},
   "source": [
    "# Practical QUestion"
   ]
  },
  {
   "cell_type": "code",
   "execution_count": 87,
   "id": "4e483bd9-e4b5-4b2c-8efa-4fb6511acd0f",
   "metadata": {},
   "outputs": [
    {
     "name": "stdout",
     "output_type": "stream",
     "text": [
      "Sample Mean: 50.1\n",
      "Z-score: 0.15811388300842122\n",
      "P-value: 0.87436706116289\n",
      "Fail to reject the null hypothesis (no significant difference).\n"
     ]
    }
   ],
   "source": [
    "# 1. Write a Python program to perform a Z-test for comparing a sample mean to a known population mean and interpret the results.\n",
    "import numpy as np\n",
    "from scipy.stats import norm\n",
    "\n",
    "\n",
    "sample = np.array([50, 52, 47, 49, 51, 48, 53, 50, 52, 49])\n",
    "sample_mean = np.mean(sample)\n",
    "sample_size = len(sample)\n",
    "\n",
    "population_mean = 50\n",
    "population_std = 2\n",
    "\n",
    "z_score = (sample_mean - population_mean) / (population_std / np.sqrt(sample_size))\n",
    "p_value = 2 * (1 - norm.cdf(abs(z_score)))  # Two-tailed test\n",
    "\n",
    "print(\"Sample Mean:\", sample_mean)\n",
    "print(\"Z-score:\", z_score)\n",
    "print(\"P-value:\", p_value)\n",
    "\n",
    "alpha = 0.05\n",
    "if p_value < alpha:\n",
    "    print(\"Reject the null hypothesis (significant difference).\")\n",
    "else:\n",
    "    print(\"Fail to reject the null hypothesis (no significant difference).\")\n"
   ]
  },
  {
   "cell_type": "code",
   "execution_count": 88,
   "id": "3a0c3f80-9b5d-47c9-b883-7dfa68759fe5",
   "metadata": {},
   "outputs": [
    {
     "name": "stdout",
     "output_type": "stream",
     "text": [
      "Sample Mean: 49.05926552074481\n",
      "Z-score: -1.0305229898218877\n",
      "P-value: 0.3027645658813305\n"
     ]
    }
   ],
   "source": [
    "# 2. Simulate random data to perform hypothesis testing and calculate the corresponding P-value using Python.\n",
    "import numpy as np\n",
    "from scipy import stats\n",
    "\n",
    "np.random.seed(42)\n",
    "sample_data = np.random.normal(loc=50, scale=5, size=30)\n",
    "population_mean = 50\n",
    "\n",
    "# One-sample Z-test\n",
    "sample_mean = np.mean(sample_data)\n",
    "sample_size = len(sample_data)\n",
    "population_std = 5  # assumed known\n",
    "\n",
    "z_score = (sample_mean - population_mean) / (population_std / np.sqrt(sample_size))\n",
    "p_value = 2 * (1 - stats.norm.cdf(abs(z_score)))\n",
    "\n",
    "print(\"Sample Mean:\", sample_mean)\n",
    "print(\"Z-score:\", z_score)\n",
    "print(\"P-value:\", p_value)"
   ]
  },
  {
   "cell_type": "code",
   "execution_count": 89,
   "id": "a4030418-6834-4f3a-89bb-b90db5c8cadf",
   "metadata": {},
   "outputs": [
    {
     "name": "stdout",
     "output_type": "stream",
     "text": [
      "Sample Mean: 50.3\n",
      "Z-Score: 0.31622776601683494\n",
      "P-Value: 0.7518296340458515\n"
     ]
    }
   ],
   "source": [
    "# 3. Implement a one-sample Z-test using Python to compare the sample mean with the population mean.\n",
    "import numpy as np\n",
    "from scipy.stats import norm\n",
    "\n",
    "\n",
    "sample_data = [49, 51, 50, 52, 48, 53, 50, 51, 49, 50]\n",
    "sample_mean = np.mean(sample_data)\n",
    "population_mean = 50\n",
    "population_std = 3  \n",
    "sample_size = len(sample_data)\n",
    "\n",
    "\n",
    "z_score = (sample_mean - population_mean) / (population_std / np.sqrt(sample_size))\n",
    "p_value = 2 * (1 - norm.cdf(abs(z_score)))\n",
    "\n",
    "print(f\"Sample Mean: {sample_mean}\")\n",
    "print(f\"Z-Score: {z_score}\")\n",
    "print(f\"P-Value: {p_value}\")\n"
   ]
  },
  {
   "cell_type": "code",
   "execution_count": 90,
   "id": "75418b61-7dac-4de4-a1ca-db82b4aaa7ab",
   "metadata": {},
   "outputs": [
    {
     "data": {
      "image/png": "[encoded data removed]",
      "text/plain": [
       "<Figure size 640x480 with 1 Axes>"
      ]
     },
     "metadata": {},
     "output_type": "display_data"
    },
    {
     "name": "stdout",
     "output_type": "stream",
     "text": [
      "Z-Score: 2.1908902300206643\n",
      "P-Value: 0.02845973691631065\n"
     ]
    }
   ],
   "source": [
    "# 4. Perform a two-tailed Z-test using Python and visualize the decision region on a plot.\n",
    "import numpy as np\n",
    "import matplotlib.pyplot as plt\n",
    "from scipy.stats import norm\n",
    "\n",
    "sample_mean = 52\n",
    "population_mean = 50\n",
    "population_std = 5\n",
    "sample_size = 30\n",
    "\n",
    "z_score = (sample_mean - population_mean) / (population_std / np.sqrt(sample_size))\n",
    "p_value = 2 * (1 - norm.cdf(abs(z_score)))\n",
    "\n",
    "x = np.linspace(-4, 4, 100)\n",
    "y = norm.pdf(x)\n",
    "plt.plot(x, y, label=\"Standard Normal Distribution\")\n",
    "plt.fill_between(x, 0, y, where=(x > 1.96), color='red', alpha=0.5, label=\"Rejection Region (right)\")\n",
    "plt.fill_between(x, 0, y, where=(x < -1.96), color='red', alpha=0.5, label=\"Rejection Region (left)\")\n",
    "plt.axvline(z_score, color='green', linestyle='dashed', label=f'Z-score: {z_score:.2f}')\n",
    "plt.title(\"Two-Tailed Z-Test and Decision Region\")\n",
    "plt.legend()\n",
    "plt.show()\n",
    "\n",
    "print(f\"Z-Score: {z_score}\")\n",
    "print(f\"P-Value: {p_value}\")"
   ]
  },
  {
   "cell_type": "code",
   "execution_count": 91,
   "id": "8953ad40-28b4-4c7e-9fb7-9c724a18648c",
   "metadata": {},
   "outputs": [
    {
     "data": {
      "image/png": "[encoded data removed]",
      "text/plain": [
       "<Figure size 640x480 with 1 Axes>"
      ]
     },
     "metadata": {},
     "output_type": "display_data"
    },
    {
     "name": "stdout",
     "output_type": "stream",
     "text": [
      "Z-Score: 2.19\n",
      "P-Value: 0.0285\n"
     ]
    }
   ],
   "source": [
    "# 5. Create a Python function that calculates and visualizes Type 1 and Type 2 errors during hypothesis testing.\n",
    "import numpy as np\n",
    "import matplotlib.pyplot as plt\n",
    "from scipy.stats import norm\n",
    "\n",
    "def visualize_errors(alpha=0.05, true_mean=50, sample_mean=52, population_std=5, sample_size=30):\n",
    "   \n",
    "    z_score = (sample_mean - true_mean) / (population_std / np.sqrt(sample_size))\n",
    "\n",
    "    p_value = 2 * (1 - norm.cdf(abs(z_score)))\n",
    "\n",
    "    x = np.linspace(true_mean - 4 * population_std, true_mean + 4 * population_std, 1000)\n",
    "    y = norm.pdf(x, loc=true_mean, scale=population_std)\n",
    "\n",
    "    plt.plot(x, y, label=\"Normal Distribution under H0\")\n",
    "    plt.fill_between(x, 0, y, where=(x > true_mean + norm.ppf(1 - alpha/2) * population_std), color='red', alpha=0.5, label=\"Type I Error (False Positive)\")\n",
    "    plt.fill_between(x, 0, y, where=(x < true_mean - norm.ppf(1 - alpha/2) * population_std), color='red', alpha=0.5)\n",
    "    \n",
    "    plt.axvline(x=sample_mean, color='green', linestyle='--', label=f'Sample Mean: {sample_mean}')\n",
    "    plt.title('Type I and Type II Errors')\n",
    "    plt.legend()\n",
    "    plt.show()\n",
    "\n",
    "    print(f\"Z-Score: {z_score:.2f}\")\n",
    "    print(f\"P-Value: {p_value:.4f}\")\n",
    "\n",
    "visualize_errors()"
   ]
  },
  {
   "cell_type": "code",
   "execution_count": 92,
   "id": "717702d1-96c9-40a8-8e0c-adbb45350138",
   "metadata": {},
   "outputs": [
    {
     "name": "stdout",
     "output_type": "stream",
     "text": [
      "T-statistic: -9.0\n",
      "P-value: 1.85311842964301e-05\n",
      "Reject the null hypothesis (significant difference).\n"
     ]
    }
   ],
   "source": [
    "# 6. Write a Python program to perform an independent T-test and interpret the results.\n",
    "from scipy.stats import ttest_ind\n",
    "\n",
    "# Sample data\n",
    "group1 = [23, 21, 19, 22, 20]\n",
    "group2 = [30, 28, 32, 31, 29]\n",
    "\n",
    "# Independent T-test\n",
    "t_stat, p_val = ttest_ind(group1, group2)\n",
    "print(f\"T-statistic: {t_stat}\")\n",
    "print(f\"P-value: {p_val}\")\n",
    "\n",
    "# Interpretation\n",
    "alpha = 0.05\n",
    "if p_val < alpha:\n",
    "    print(\"Reject the null hypothesis (significant difference).\")\n",
    "else:\n",
    "    print(\"Fail to reject the null hypothesis (no significant difference).\")"
   ]
  },
  {
   "cell_type": "code",
   "execution_count": 93,
   "id": "7b2e5595-abdc-4caa-b3c9-1d21c8a54859",
   "metadata": {},
   "outputs": [
    {
     "name": "stdout",
     "output_type": "stream",
     "text": [
      "T-statistic: -inf\n",
      "P-value: 0.0\n"
     ]
    },
    {
     "name": "stderr",
     "output_type": "stream",
     "text": [
      "C:\\Users\\yasha\\AppData\\Local\\Programs\\Python\\Python313\\Lib\\site-packages\\scipy\\stats\\_axis_nan_policy.py:430: RuntimeWarning: Precision loss occurred in moment calculation due to catastrophic cancellation. This occurs when the data are nearly identical. Results may be unreliable.\n",
      "  return hypotest_fun_in(*args, **kwds)\n"
     ]
    },
    {
     "data": {
      "image/png": "[encoded data removed]",
      "text/plain": [
       "<Figure size 640x480 with 1 Axes>"
      ]
     },
     "metadata": {},
     "output_type": "display_data"
    },
    {
     "name": "stdout",
     "output_type": "stream",
     "text": [
      "Reject the null hypothesis (significant difference).\n"
     ]
    }
   ],
   "source": [
    "# 7. Perform a paired sample T-test using Python and visualize the comparison results.\n",
    "import matplotlib.pyplot as plt\n",
    "from scipy.stats import ttest_rel\n",
    "\n",
    "before = [5, 7, 8, 6, 5]\n",
    "after = [6, 8, 9, 7, 6]\n",
    "\n",
    "\n",
    "t_stat, p_val = ttest_rel(before, after)\n",
    "print(f\"T-statistic: {t_stat}\")\n",
    "print(f\"P-value: {p_val}\")\n",
    "\n",
    "\n",
    "plt.bar([1, 2], [np.mean(before), np.mean(after)], color=['blue', 'green'])\n",
    "plt.xticks([1, 2], ['Before', 'After'])\n",
    "plt.ylabel('Scores')\n",
    "plt.title('Paired Sample T-test Comparison')\n",
    "plt.show()\n",
    "\n",
    "alpha = 0.05\n",
    "if p_val < alpha:\n",
    "    print(\"Reject the null hypothesis (significant difference).\")\n",
    "else:\n",
    "    print(\"Fail to reject the null hypothesis (no significant difference).\")\n"
   ]
  },
  {
   "cell_type": "code",
   "execution_count": 94,
   "id": "6889759b-3199-4ecf-848d-b4e8417c9346",
   "metadata": {},
   "outputs": [
    {
     "name": "stdout",
     "output_type": "stream",
     "text": [
      "Z-test P-value: 0.24589931875480842\n",
      "T-test P-value: 0.20748712034193556\n"
     ]
    }
   ],
   "source": [
    "# 8. Simulate data and perform both Z-test and T-test, then compare the results using Python.\n",
    "from scipy.stats import ttest_1samp, norm\n",
    "\n",
    "np.random.seed(42)\n",
    "data = np.random.normal(loc=52, scale=5, size=30)\n",
    "population_mean = 50\n",
    "population_std = 5\n",
    "\n",
    "sample_mean = np.mean(data)\n",
    "z_score = (sample_mean - population_mean) / (population_std / np.sqrt(len(data)))\n",
    "p_value_z = 2 * (1 - norm.cdf(abs(z_score)))\n",
    "\n",
    "t_stat, p_value_t = ttest_1samp(data, population_mean)\n",
    "\n",
    "print(f\"Z-test P-value: {p_value_z}\")\n",
    "print(f\"T-test P-value: {p_value_t}\")\n"
   ]
  },
  {
   "cell_type": "code",
   "execution_count": 95,
   "id": "b59b8a09-d52b-4835-ab25-6469e6c5b78b",
   "metadata": {},
   "outputs": [
    {
     "name": "stdout",
     "output_type": "stream",
     "text": [
      "Confidence Interval: (21.73, 24.47)\n"
     ]
    }
   ],
   "source": [
    "# 9. Write a Python function to calculate the confidence interval for a sample mean and explain its significance.\n",
    "import numpy as np\n",
    "from scipy.stats import t\n",
    "\n",
    "def confidence_interval(sample_data, confidence_level=0.95):\n",
    "    sample_mean = np.mean(sample_data)\n",
    "    sample_size = len(sample_data)\n",
    "    sample_std = np.std(sample_data, ddof=1)\n",
    "    \n",
    "    t_critical = t.ppf((1 + confidence_level) / 2, df=sample_size - 1)\n",
    "    \n",
    "    margin_of_error = t_critical * (sample_std / np.sqrt(sample_size))\n",
    "    \n",
    "    # Confidence Interval\n",
    "    lower_bound = sample_mean - margin_of_error\n",
    "    upper_bound = sample_mean + margin_of_error\n",
    "    \n",
    "    return lower_bound, upper_bound\n",
    "\n",
    "data = [23, 25, 21, 22, 24, 20, 26, 22, 23, 25]\n",
    "ci_lower, ci_upper = confidence_interval(data)\n",
    "print(f\"Confidence Interval: ({ci_lower:.2f}, {ci_upper:.2f})\")\n"
   ]
  },
  {
   "cell_type": "code",
   "execution_count": 96,
   "id": "39c843a7-0db0-4e2f-acbf-a6f9ae82d183",
   "metadata": {},
   "outputs": [
    {
     "name": "stdout",
     "output_type": "stream",
     "text": [
      "Margin of Error: 1.37\n"
     ]
    }
   ],
   "source": [
    "# 10. Write a Python program to calculate the margin of error for a given confidence level using sample data.\n",
    "import numpy as np\n",
    "from scipy.stats import t\n",
    "\n",
    "def margin_of_error(sample_data, confidence_level=0.95):\n",
    "    sample_size = len(sample_data)\n",
    "    sample_mean = np.mean(sample_data)\n",
    "    sample_std = np.std(sample_data, ddof=1)\n",
    "    \n",
    "    t_critical = t.ppf((1 + confidence_level) / 2, df=sample_size - 1)\n",
    "    \n",
    "    margin_error = t_critical * (sample_std / np.sqrt(sample_size))\n",
    "    return margin_error\n",
    "\n",
    "data = [23, 25, 21, 22, 24, 20, 26, 22, 23, 25]\n",
    "margin_error = margin_of_error(data)\n",
    "print(f\"Margin of Error: {margin_error:.2f}\")\n"
   ]
  },
  {
   "cell_type": "code",
   "execution_count": 97,
   "id": "5be17069-114d-4e2c-8eab-aa6a4d323dbb",
   "metadata": {},
   "outputs": [
    {
     "name": "stdout",
     "output_type": "stream",
     "text": [
      "Posterior Probability: 0.0950\n"
     ]
    }
   ],
   "source": [
    "# 11. Implement a Bayesian inference method using Bayes' Theorem in Python and explain the process.\n",
    "def bayesian_inference(prior, likelihood, evidence):\n",
    "    # Bayes' Theorem: P(A|B) = (P(B|A) * P(A)) / P(B)\n",
    "    posterior = (likelihood * prior) / evidence\n",
    "    return posterior\n",
    "\n",
    "\n",
    "prior = 0.01\n",
    "likelihood = 0.95\n",
    "evidence = 0.10\n",
    "\n",
    "posterior = bayesian_inference(prior, likelihood, evidence)\n",
    "print(f\"Posterior Probability: {posterior:.4f}\")\n"
   ]
  },
  {
   "cell_type": "code",
   "execution_count": 98,
   "id": "8db52105-b175-4329-8369-2617ea406734",
   "metadata": {},
   "outputs": [
    {
     "name": "stdout",
     "output_type": "stream",
     "text": [
      "Chi-square statistic: 0.748051948051948\n",
      "P-value: 0.3870936972590958\n",
      "Degrees of freedom: 1\n",
      "Expected frequencies: [[27.5 27.5]\n",
      " [17.5 17.5]]\n",
      "Fail to reject the null hypothesis (independence is supported).\n"
     ]
    }
   ],
   "source": [
    "# 12. Perform a Chi-square test for independence between two categorical variables in Python.\n",
    "from scipy.stats import chi2_contingency\n",
    "\n",
    "data = [[25, 30], [20, 15]]  # Row: Gender, Column: Preference\n",
    "chi2, p_value, dof, expected = chi2_contingency(data)\n",
    "\n",
    "print(f\"Chi-square statistic: {chi2}\")\n",
    "print(f\"P-value: {p_value}\")\n",
    "print(f\"Degrees of freedom: {dof}\")\n",
    "print(f\"Expected frequencies: {expected}\")\n",
    "\n",
    "alpha = 0.05\n",
    "if p_value < alpha:\n",
    "    print(\"Reject the null hypothesis (independence is not supported).\")\n",
    "else:\n",
    "    print(\"Fail to reject the null hypothesis (independence is supported).\")\n"
   ]
  },
  {
   "cell_type": "code",
   "execution_count": 99,
   "id": "5969d698-1f94-4f91-b636-169d94255819",
   "metadata": {},
   "outputs": [
    {
     "name": "stdout",
     "output_type": "stream",
     "text": [
      "Observed frequencies:\n",
      " [[25 30]\n",
      " [20 15]]\n",
      "Expected frequencies:\n",
      " [[27.5 27.5]\n",
      " [17.5 17.5]]\n"
     ]
    }
   ],
   "source": [
    "# 13. Write a Python program to calculate the expected frequencies for a Chi-square test based on observed data.\n",
    "import numpy as np\n",
    "\n",
    "observed = np.array([[25, 30], [20, 15]])\n",
    "\n",
    "row_totals = observed.sum(axis=1)\n",
    "column_totals = observed.sum(axis=0)\n",
    "grand_total = observed.sum()\n",
    "expected = np.outer(row_totals, column_totals) / grand_total\n",
    "\n",
    "print(\"Observed frequencies:\\n\", observed)\n",
    "print(\"Expected frequencies:\\n\", expected)\n"
   ]
  },
  {
   "cell_type": "code",
   "execution_count": 100,
   "id": "e951795f-8978-4e7c-b5c3-850f8e739362",
   "metadata": {},
   "outputs": [
    {
     "name": "stdout",
     "output_type": "stream",
     "text": [
      "Chi-square Statistic: 5.0\n",
      "P-value: 0.0820849986238988\n",
      "Fail to reject the null hypothesis (the data fits the expected distribution).\n"
     ]
    }
   ],
   "source": [
    "# 14. Perform a goodness-of-fit test using Python to compare the observed data to an expected distribution.\n",
    "from scipy.stats import chisquare\n",
    "\n",
    "observed = [50, 30, 20]\n",
    "expected = [40, 40, 20]\n",
    "\n",
    "# Chi-square goodness of fit test\n",
    "chi2_stat, p_value = chisquare(observed, expected)\n",
    "print(f\"Chi-square Statistic: {chi2_stat}\")\n",
    "print(f\"P-value: {p_value}\")\n",
    "\n",
    "alpha = 0.05\n",
    "if p_value < alpha:\n",
    "    print(\"Reject the null hypothesis (the data does not fit the expected distribution).\")\n",
    "else:\n",
    "    print(\"Fail to reject the null hypothesis (the data fits the expected distribution).\")\n"
   ]
  },
  {
   "cell_type": "code",
   "execution_count": 101,
   "id": "5b1054ec-6fd6-43b3-a751-94262f011990",
   "metadata": {},
   "outputs": [
    {
     "data": {
      "image/png": "[encoded data removed]",
      "text/plain": [
       "<Figure size 640x480 with 1 Axes>"
      ]
     },
     "metadata": {},
     "output_type": "display_data"
    }
   ],
   "source": [
    "# 15. Create a Python script to simulate and visualize the Chi-square distribution and discuss its characteristics.\n",
    "import numpy as np\n",
    "import matplotlib.pyplot as plt\n",
    "from scipy.stats import chi2\n",
    "\n",
    "df = 5 \n",
    "x = np.linspace(0, 20, 1000)\n",
    "y = chi2.pdf(x, df)\n",
    "\n",
    "plt.plot(x, y, label=f'Chi-square Distribution (df={df})')\n",
    "plt.title(\"Chi-square Distribution\")\n",
    "plt.xlabel(\"x\")\n",
    "plt.ylabel(\"Probability Density\")\n",
    "plt.legend()\n",
    "plt.grid(True)\n",
    "plt.show()"
   ]
  },
  {
   "cell_type": "code",
   "execution_count": 102,
   "id": "07318e8a-5b13-4443-97dc-c59b8f4b8cf2",
   "metadata": {},
   "outputs": [
    {
     "name": "stdout",
     "output_type": "stream",
     "text": [
      "F-statistic: 0.22025522365206326\n",
      "P-value: 0.9999453933961118\n"
     ]
    }
   ],
   "source": [
    "# 16. Implement an F-test using Python to compare the variances of two random samples.\n",
    "from scipy.stats import f\n",
    "\n",
    "sample1 = np.random.normal(10, 2, 30)\n",
    "sample2 = np.random.normal(12, 4, 30)\n",
    "\n",
    "var1 = np.var(sample1, ddof=1)\n",
    "var2 = np.var(sample2, ddof=1)\n",
    "\n",
    "f_statistic = var1 / var2\n",
    "p_value = 1 - f.cdf(f_statistic, len(sample1)-1, len(sample2)-1)\n",
    "\n",
    "print(f\"F-statistic: {f_statistic}\")\n",
    "print(f\"P-value: {p_value}\")\n"
   ]
  },
  {
   "cell_type": "code",
   "execution_count": 103,
   "id": "ffa29a64-9761-4365-9cdf-410289060593",
   "metadata": {},
   "outputs": [
    {
     "name": "stdout",
     "output_type": "stream",
     "text": [
      "F-statistic: 64.6666666666668\n",
      "P-value: 3.746449345717979e-07\n",
      "Reject the null hypothesis (significant difference in group means).\n"
     ]
    }
   ],
   "source": [
    "# 17. Write a Python program to perform an ANOVA test to compare means between multiple groups and interpret the results.\n",
    "from scipy.stats import f_oneway\n",
    "\n",
    "group1 = [23, 25, 21, 22, 24]\n",
    "group2 = [30, 32, 29, 31, 33]\n",
    "group3 = [18, 20, 22, 21, 19]\n",
    "\n",
    "f_stat, p_value = f_oneway(group1, group2, group3)\n",
    "print(f\"F-statistic: {f_stat}\")\n",
    "print(f\"P-value: {p_value}\")\n",
    "\n",
    "alpha = 0.05\n",
    "if p_value < alpha:\n",
    "    print(\"Reject the null hypothesis (significant difference in group means).\")\n",
    "else:\n",
    "    print(\"Fail to reject the null hypothesis (no significant difference in group means).\")\n"
   ]
  },
  {
   "cell_type": "code",
   "execution_count": 104,
   "id": "19563c4b-2ab2-4e2d-82db-be2e21493049",
   "metadata": {},
   "outputs": [
    {
     "name": "stdout",
     "output_type": "stream",
     "text": [
      "F-statistic: 64.6666666666668\n",
      "P-value: 3.746449345717979e-07\n"
     ]
    },
    {
     "name": "stderr",
     "output_type": "stream",
     "text": [
      "C:\\Users\\yasha\\AppData\\Local\\Temp\\ipykernel_16044\\3319392174.py:12: MatplotlibDeprecationWarning: The 'labels' parameter of boxplot() has been renamed 'tick_labels' since Matplotlib 3.9; support for the old name will be dropped in 3.11.\n",
      "  plt.boxplot([group1, group2, group3], labels=['Group 1', 'Group 2', 'Group 3'])\n"
     ]
    },
    {
     "data": {
      "image/png": "[encoded data removed]",
      "text/plain": [
       "<Figure size 640x480 with 1 Axes>"
      ]
     },
     "metadata": {},
     "output_type": "display_data"
    }
   ],
   "source": [
    "# 18. Perform a one-way ANOVA test using Python to compare the means of different groups and plot the results.\n",
    "import matplotlib.pyplot as plt\n",
    "\n",
    "group1 = [23, 25, 21, 22, 24]\n",
    "group2 = [30, 32, 29, 31, 33]\n",
    "group3 = [18, 20, 22, 21, 19]\n",
    "\n",
    "f_stat, p_value = f_oneway(group1, group2, group3)\n",
    "print(f\"F-statistic: {f_stat}\")\n",
    "print(f\"P-value: {p_value}\")\n",
    "\n",
    "plt.boxplot([group1, group2, group3], labels=['Group 1', 'Group 2', 'Group 3'])\n",
    "plt.title('One-Way ANOVA Test - Comparison of Group Means')\n",
    "plt.ylabel('Values')\n",
    "plt.show()\n"
   ]
  },
  {
   "cell_type": "code",
   "execution_count": 105,
   "id": "b7e84701-9f68-4d7e-8fb3-c5d199f9f350",
   "metadata": {},
   "outputs": [
    {
     "name": "stdout",
     "output_type": "stream",
     "text": [
      "Normality test for group (p-value): 0.9671739349728582\n",
      "The data is normally distributed.\n",
      "Normality test for group (p-value): 0.9671739349728582\n",
      "The data is normally distributed.\n",
      "Normality test for group (p-value): 0.9671739349728582\n",
      "The data is normally distributed.\n",
      "Levene's test for equal variance (p-value): 1.0\n",
      "The variances are equal.\n"
     ]
    }
   ],
   "source": [
    "# 19. Write a Python function to check the assumptions (normality, independence, and equal variance) for ANOVA.\n",
    "from scipy.stats import shapiro, levene\n",
    "\n",
    "def check_anova_assumptions(groups):\n",
    "    for group in groups:\n",
    "        stat, p_value = shapiro(group)\n",
    "        print(f\"Normality test for group (p-value): {p_value}\")\n",
    "        if p_value < 0.05:\n",
    "            print(\"The data is not normally distributed.\")\n",
    "        else:\n",
    "            print(\"The data is normally distributed.\")\n",
    "    \n",
    "    stat, p_value = levene(*groups)\n",
    "    print(f\"Levene's test for equal variance (p-value): {p_value}\")\n",
    "    if p_value < 0.05:\n",
    "        print(\"The variances are not equal.\")\n",
    "    else:\n",
    "        print(\"The variances are equal.\")\n",
    "\n",
    "\n",
    "groups = [group1, group2, group3]\n",
    "check_anova_assumptions(groups)\n"
   ]
  },
  {
   "cell_type": "code",
   "execution_count": 117,
   "id": "d49b2f48-452d-4bf8-b269-db544360a680",
   "metadata": {
    "scrolled": true
   },
   "outputs": [
    {
     "data": {
      "text/html": [
       "<div>\n",
       "<style scoped>\n",
       "    .dataframe tbody tr th:only-of-type {\n",
       "        vertical-align: middle;\n",
       "    }\n",
       "\n",
       "    .dataframe tbody tr th {\n",
       "        vertical-align: top;\n",
       "    }\n",
       "\n",
       "    .dataframe thead th {\n",
       "        text-align: right;\n",
       "    }\n",
       "</style>\n",
       "<table border=\"1\" class=\"dataframe\">\n",
       "  <thead>\n",
       "    <tr style=\"text-align: right;\">\n",
       "      <th></th>\n",
       "      <th>sum_sq</th>\n",
       "      <th>df</th>\n",
       "      <th>F</th>\n",
       "      <th>PR(&gt;F)</th>\n",
       "    </tr>\n",
       "  </thead>\n",
       "  <tbody>\n",
       "    <tr>\n",
       "      <th>C(water)</th>\n",
       "      <td>8.533333</td>\n",
       "      <td>1.0</td>\n",
       "      <td>16.0000</td>\n",
       "      <td>0.000527</td>\n",
       "    </tr>\n",
       "    <tr>\n",
       "      <th>C(sun)</th>\n",
       "      <td>24.866667</td>\n",
       "      <td>2.0</td>\n",
       "      <td>23.3125</td>\n",
       "      <td>0.000002</td>\n",
       "    </tr>\n",
       "    <tr>\n",
       "      <th>C(water):C(sun)</th>\n",
       "      <td>2.466667</td>\n",
       "      <td>2.0</td>\n",
       "      <td>2.3125</td>\n",
       "      <td>0.120667</td>\n",
       "    </tr>\n",
       "    <tr>\n",
       "      <th>Residual</th>\n",
       "      <td>12.800000</td>\n",
       "      <td>24.0</td>\n",
       "      <td>NaN</td>\n",
       "      <td>NaN</td>\n",
       "    </tr>\n",
       "  </tbody>\n",
       "</table>\n",
       "</div>"
      ],
      "text/plain": [
       "                    sum_sq    df        F    PR(>F)\n",
       "C(water)          8.533333   1.0  16.0000  0.000527\n",
       "C(sun)           24.866667   2.0  23.3125  0.000002\n",
       "C(water):C(sun)   2.466667   2.0   2.3125  0.120667\n",
       "Residual         12.800000  24.0      NaN       NaN"
      ]
     },
     "execution_count": 117,
     "metadata": {},
     "output_type": "execute_result"
    }
   ],
   "source": [
    "# 20. Perform a two-way ANOVA test using Python to study the interaction between two factors and visualize the results.\n",
    "import statsmodels.api as sm\n",
    "from statsmodels.formula.api import ols\n",
    "\n",
    "import numpy as np\n",
    "import pandas as pd\n",
    "\n",
    "df = pd.DataFrame({'water': np.repeat(['daily', 'weekly'], 15),\n",
    "                   'sun': np.tile(np.repeat(['low', 'med', 'high'], 5), 2),\n",
    "                   'height': [6, 6, 6, 5, 6, 5, 5, 6, 4, 5,\n",
    "                              6, 6, 7, 8, 7, 3, 4, 4, 4, 5,\n",
    "                              4, 4, 4, 4, 4, 5, 6, 6, 7, 8]})\n",
    "\n",
    "#perform two-way ANOVA\n",
    "model = ols('height ~ C(water) + C(sun) + C(water):C(sun)', data=df).fit()\n",
    "sm.stats.anova_lm(model, typ=2)"
   ]
  },
  {
   "cell_type": "code",
   "execution_count": 118,
   "id": "79b319d7-46c5-4d65-862e-676c00197bf7",
   "metadata": {},
   "outputs": [
    {
     "name": "stdout",
     "output_type": "stream",
     "text": [
      "Required Sample Size: 63.77\n"
     ]
    }
   ],
   "source": [
    "# 21. Write a Python function to calculate the sample size required for hypothesis testing based on the desired power and effect size.\n",
    "from statsmodels.stats.power import TTestIndPower\n",
    "\n",
    "def calculate_sample_size(effect_size, alpha=0.05, power=0.8):\n",
    "    analysis = TTestIndPower()\n",
    "    sample_size = analysis.solve_power(effect_size, power=power, alpha=alpha)\n",
    "    return sample_size\n",
    "\n",
    "effect_size = 0.5  # Small effect size\n",
    "required_sample_size = calculate_sample_size(effect_size)\n",
    "print(f\"Required Sample Size: {required_sample_size:.2f}\")\n"
   ]
  },
  {
   "cell_type": "code",
   "execution_count": 119,
   "id": "168c378e-e4da-43ed-8f22-bd19dc1e32e0",
   "metadata": {},
   "outputs": [
    {
     "data": {
      "image/png": "[encoded data removed]",
      "text/plain": [
       "<Figure size 640x480 with 1 Axes>"
      ]
     },
     "metadata": {},
     "output_type": "display_data"
    }
   ],
   "source": [
    "# 22. Use Python to simulate a power analysis for a given hypothesis test and visualize the power curve.\n",
    "import numpy as np\n",
    "import matplotlib.pyplot as plt\n",
    "from statsmodels.stats.power import TTestIndPower\n",
    "\n",
    "effect_sizes = np.linspace(0.1, 1.0, 10)\n",
    "analysis = TTestIndPower()\n",
    "\n",
    "powers = [analysis.solve_power(es, power=0.8, alpha=0.05) for es in effect_sizes]\n",
    "\n",
    "plt.plot(effect_sizes, powers, label='Power Curve')\n",
    "plt.title('Power Analysis')\n",
    "plt.xlabel('Effect Size')\n",
    "plt.ylabel('Power')\n",
    "plt.grid(True)\n",
    "plt.show()\n"
   ]
  },
  {
   "cell_type": "code",
   "execution_count": 120,
   "id": "870c71d9-cd3b-4dbc-88b3-1b823d03ee4c",
   "metadata": {},
   "outputs": [
    {
     "name": "stdout",
     "output_type": "stream",
     "text": [
      "U-statistic: 0.0\n",
      "P-value: 0.007936507936507936\n"
     ]
    }
   ],
   "source": [
    "# 23. Perform a non-parametric test like the Mann-Whitney U test using Python for independent samples.\n",
    "from scipy.stats import mannwhitneyu\n",
    "\n",
    "group1 = [23, 25, 21, 22, 24]\n",
    "group2 = [30, 32, 29, 31, 33]\n",
    "\n",
    "stat, p_value = mannwhitneyu(group1, group2)\n",
    "print(f\"U-statistic: {stat}\")\n",
    "print(f\"P-value: {p_value}\")\n"
   ]
  },
  {
   "cell_type": "code",
   "execution_count": 121,
   "id": "1fb03523-d1c5-4753-889d-c0a4c7a7e2f4",
   "metadata": {},
   "outputs": [
    {
     "name": "stdout",
     "output_type": "stream",
     "text": [
      "Wilcoxon statistic: 0.0\n",
      "P-value: 0.0625\n"
     ]
    }
   ],
   "source": [
    "# 24. Write a Python function to perform a Wilcoxon signed-rank test for paired samples.\n",
    "from scipy.stats import wilcoxon\n",
    "\n",
    "\n",
    "before = [5, 7, 8, 6, 5]\n",
    "after = [6, 8, 9, 7, 6]\n",
    "\n",
    "stat, p_value = wilcoxon(before, after)\n",
    "print(f\"Wilcoxon statistic: {stat}\")\n",
    "print(f\"P-value: {p_value}\")\n"
   ]
  },
  {
   "cell_type": "code",
   "execution_count": 122,
   "id": "b4355061-b924-4574-9a79-5be366f8d6e3",
   "metadata": {},
   "outputs": [
    {
     "name": "stdout",
     "output_type": "stream",
     "text": [
      "H-statistic: 11.621505376344084\n",
      "P-value: 0.0029951747910321206\n"
     ]
    }
   ],
   "source": [
    "# 25. Perform a Kruskal-Wallis H-test using Python for comparing multiple independent samples.\n",
    "from scipy.stats import kruskal\n",
    "\n",
    "group1 = [23, 25, 21, 22, 24]\n",
    "group2 = [30, 32, 29, 31, 33]\n",
    "group3 = [18, 20, 22, 21, 19]\n",
    "\n",
    "\n",
    "h_stat, p_value = kruskal(group1, group2, group3)\n",
    "print(f\"H-statistic: {h_stat}\")\n",
    "print(f\"P-value: {p_value}\")\n"
   ]
  },
  {
   "cell_type": "code",
   "execution_count": 123,
   "id": "2b8f1276-155c-4006-b700-9f1ab5521d28",
   "metadata": {},
   "outputs": [
    {
     "name": "stdout",
     "output_type": "stream",
     "text": [
      "Observed Difference: -8.0\n",
      "Randomization p-value: 0.0091\n"
     ]
    }
   ],
   "source": [
    "# 26. Write a Python program to perform a randomization test and compare it with a t-test result.\n",
    "import numpy as np\n",
    "\n",
    "\n",
    "group1 = [23, 25, 21, 22, 24]\n",
    "group2 = [30, 32, 29, 31, 33]\n",
    "\n",
    "\n",
    "obs_diff = np.mean(group1) - np.mean(group2)\n",
    "\n",
    "\n",
    "combined = np.concatenate([group1, group2])\n",
    "n_iterations = 10000\n",
    "random_diffs = []\n",
    "\n",
    "for _ in range(n_iterations):\n",
    "    np.random.shuffle(combined)\n",
    "    group1_random = combined[:len(group1)]\n",
    "    group2_random = combined[len(group1):]\n",
    "    random_diffs.append(np.mean(group1_random) - np.mean(group2_random))\n",
    "\n",
    "\n",
    "p_value = np.sum(np.abs(random_diffs) >= np.abs(obs_diff)) / n_iterations\n",
    "print(f\"Observed Difference: {obs_diff}\")\n",
    "print(f\"Randomization p-value: {p_value}\")\n"
   ]
  },
  {
   "cell_type": "code",
   "execution_count": 124,
   "id": "f0311f68-64b0-455f-94ca-f420491f41bb",
   "metadata": {},
   "outputs": [
    {
     "name": "stdout",
     "output_type": "stream",
     "text": [
      "Bootstrap Confidence Interval: (22.00, 24.20)\n"
     ]
    }
   ],
   "source": [
    "# 27. Perform a bootstrap resampling procedure using Python to estimate the confidence interval for a sample statistic.\n",
    "import numpy as np\n",
    "\n",
    "data = [23, 25, 21, 22, 24, 20, 26, 22, 23, 25]\n",
    "\n",
    "\n",
    "n_iterations = 10000\n",
    "bootstrap_samples = np.random.choice(data, (n_iterations, len(data)), replace=True)\n",
    "bootstrap_means = np.mean(bootstrap_samples, axis=1)\n",
    "\n",
    "ci_lower = np.percentile(bootstrap_means, 2.5)\n",
    "ci_upper = np.percentile(bootstrap_means, 97.5)\n",
    "\n",
    "print(f\"Bootstrap Confidence Interval: ({ci_lower:.2f}, {ci_upper:.2f})\")\n"
   ]
  },
  {
   "cell_type": "code",
   "execution_count": null,
   "id": "03883df5-908e-4a90-af4d-88d4bee405e1",
   "metadata": {},
   "outputs": [],
   "source": []
  },
  {
   "cell_type": "code",
   "execution_count": null,
   "id": "768164fb-382d-4f7b-84ae-bb4c38a2a69f",
   "metadata": {},
   "outputs": [],
   "source": []
  },
  {
   "cell_type": "code",
   "execution_count": null,
   "id": "e84ae013-4efd-46c9-a55d-c336669203b0",
   "metadata": {},
   "outputs": [],
   "source": []
  },
  {
   "cell_type": "code",
   "execution_count": null,
   "id": "3e5d5b6a-8640-40c3-a7cc-61182427a66c",
   "metadata": {},
   "outputs": [],
   "source": []
  },
  {
   "cell_type": "code",
   "execution_count": null,
   "id": "802a236b-10da-4ee8-83aa-f830fcff084b",
   "metadata": {},
   "outputs": [],
   "source": []
  }
 ],
 "metadata": {
  "kernelspec": {
   "display_name": "Python 3 (ipykernel)",
   "language": "python",
   "name": "python3"
  },
  "language_info": {
   "codemirror_mode": {
    "name": "ipython",
    "version": 3
   },
   "file_extension": ".py",
   "mimetype": "text/x-python",
   "name": "python",
   "nbconvert_exporter": "python",
   "pygments_lexer": "ipython3",
   "version": "3.13.1"
  }
 },
 "nbformat": 4,
 "nbformat_minor": 5
}
